{
 "cells": [
  {
   "cell_type": "markdown",
   "id": "e2853740-f8d2-43e2-9054-1de1e7bb8ad3",
   "metadata": {},
   "source": [
    "Copyright © Agilesh Arumugam"
   ]
  },
  {
   "cell_type": "markdown",
   "id": "c25254a2-e196-48a6-9577-2ffb1c1f76de",
   "metadata": {},
   "source": [
    "We attempt to make a simple chatbot like old Siri / Google Assistant."
   ]
  },
  {
   "cell_type": "markdown",
   "id": "f8637bc8-894e-47fc-84a2-f7c42c0a1da0",
   "metadata": {},
   "source": [
    "# Imports"
   ]
  },
  {
   "cell_type": "code",
   "execution_count": 14,
   "id": "d77f4803-b6a5-450b-a2df-d1e17359cf5c",
   "metadata": {},
   "outputs": [
    {
     "name": "stdout",
     "output_type": "stream",
     "text": [
      "Sentence Transformer:  5.0.0\n",
      "Numpy: 2.0.1\n",
      "PyTorch: 2.5.1\n",
      "Torchvision: 0.20.1\n",
      "Torchaudio: 2.5.1\n",
      "CUDA available: True\n",
      "CUDA version (from torch): 11.8\n",
      "cuDNN version: 90100\n"
     ]
    }
   ],
   "source": [
    "from sentence_transformers import SentenceTransformer\n",
    "from sentence_transformers import CrossEncoder\n",
    "import sentence_transformers as st\n",
    "print(\"Sentence Transformer: \", st.__version__)\n",
    "import numpy as np\n",
    "print(\"Numpy:\", np.__version__)\n",
    "from typing import List\n",
    "import os\n",
    "import json\n",
    "\n",
    "import torch\n",
    "import torchvision\n",
    "import torchaudio\n",
    "\n",
    "print(\"PyTorch:\", torch.__version__)\n",
    "print(\"Torchvision:\", torchvision.__version__)\n",
    "print(\"Torchaudio:\", torchaudio.__version__)\n",
    "print(\"CUDA available:\", torch.cuda.is_available())\n",
    "print(\"CUDA version (from torch):\", torch.version.cuda)\n",
    "print(\"cuDNN version:\", torch.backends.cudnn.version())"
   ]
  },
  {
   "cell_type": "markdown",
   "id": "fd876a51-010b-430f-9452-c68b74e1db5c",
   "metadata": {},
   "source": [
    "# VectorDB Class"
   ]
  },
  {
   "cell_type": "markdown",
   "id": "f70678ee-8b5d-4874-b720-36fa150fa89c",
   "metadata": {},
   "source": [
    "We make a simple Vector DB class that manages the vector representation of prompts from our dataset."
   ]
  },
  {
   "cell_type": "code",
   "execution_count": 2,
   "id": "9e5cfe7b-c842-4bce-bac8-daceee2cabda",
   "metadata": {},
   "outputs": [],
   "source": [
    "class VectorDB:\n",
    "    def __init__(self, path=\"\"):\n",
    "        self.transformer_model = SentenceTransformer('all-MiniLM-L6-v2')\n",
    "        self.path = path\n",
    "        self.similarity_checking_model = CrossEncoder('cross-encoder/stsb-roberta-base')\n",
    "        os.makedirs(self.path, exist_ok=True)\n",
    "        \n",
    "        self.meta_path = os.path.join(self.path, \"meta.txt\")\n",
    "        self.vector_path = os.path.join(self.path, \"vectors.txt\")\n",
    "        self.clear()\n",
    "\n",
    "    def add_vector(self, text: str):\n",
    "        text = text.strip()\n",
    "    \n",
    "        with open(self.meta_path, \"r\", encoding=\"utf-8\") as f:\n",
    "            for line in f:\n",
    "                if line.strip() == text:\n",
    "                    return\n",
    "    \n",
    "        text_vector = self.transformer_model.encode(text)\n",
    "\n",
    "        with open(self.meta_path, \"a\", encoding=\"utf-8\") as f_meta:\n",
    "            f_meta.write(text + \"\\n\")\n",
    "    \n",
    "        with open(self.vector_path, \"a\", encoding=\"utf-8\") as f_vec:\n",
    "            f_vec.write(' '.join(map(str, text_vector)) + \"\\n\")\n",
    "\n",
    "    def get_most_similar(self, text):\n",
    "        most_similar_text = None\n",
    "        max_similarity = float('-inf')\n",
    "    \n",
    "        with open(self.meta_path, \"r\", encoding=\"utf-8\") as f:\n",
    "            for line in f:\n",
    "                candidate = line.strip()\n",
    "                if not candidate:\n",
    "                    continue\n",
    "                score = self.similarity_checking_model.predict([(text, candidate)])[0]\n",
    "                if score > max_similarity:\n",
    "                    max_similarity = score\n",
    "                    most_similar_text = candidate\n",
    "    \n",
    "        if most_similar_text is not None:\n",
    "            return most_similar_text, max_similarity\n",
    "        return None\n",
    "\n",
    "    def clear(self):\n",
    "        if os.path.exists(self.meta_path):\n",
    "            os.remove(self.meta_path)\n",
    "        if os.path.exists(self.vector_path):\n",
    "            os.remove(self.vector_path)\n",
    "        open(self.meta_path, \"a\").close()\n",
    "        open(self.vector_path, \"a\").close()"
   ]
  },
  {
   "cell_type": "markdown",
   "id": "7221e089-8f20-4a28-b7a6-801a2a2c9880",
   "metadata": {},
   "source": [
    "Sample code showing how to use the VectorDB class."
   ]
  },
  {
   "cell_type": "code",
   "execution_count": 3,
   "id": "3c8d1b57-921c-403f-a5b0-06eca1050411",
   "metadata": {},
   "outputs": [],
   "source": [
    "vector_db = VectorDB(\"VectorDB\")"
   ]
  },
  {
   "cell_type": "code",
   "execution_count": 4,
   "id": "c5f10de1-fcd6-49b7-b8dd-8d7a94bf122c",
   "metadata": {},
   "outputs": [
    {
     "name": "stdout",
     "output_type": "stream",
     "text": [
      "('How to cook noodles?', np.float32(0.84038234))\n"
     ]
    }
   ],
   "source": [
    "vector_db.add_vector(\"How to cook noodles?\")\n",
    "vector_db.add_vector(\"Hello World!\")\n",
    "vector_db.add_vector(\"How to cook pasta?\")\n",
    "print(vector_db.get_most_similar(\"How the FUCK do I cook spaghetti?\"))"
   ]
  },
  {
   "cell_type": "markdown",
   "id": "a96e5413-ce9b-4d5f-8166-5828351f0ab3",
   "metadata": {},
   "source": [
    "# Dataset Class"
   ]
  },
  {
   "cell_type": "markdown",
   "id": "8f956200-213f-4976-a534-ca77eb5420a6",
   "metadata": {},
   "source": [
    "We make a dataset class so we can efficiently query questions for their answers, rather than having the entire dataset in memory."
   ]
  },
  {
   "cell_type": "code",
   "execution_count": 5,
   "id": "ea8e4e23-601a-4dc7-8544-12533a1d021e",
   "metadata": {},
   "outputs": [],
   "source": [
    "class AgiDataset:\n",
    "    def __init__(self, path: str):\n",
    "        if os.path.exists(path):\n",
    "            self.path = path\n",
    "        else:\n",
    "            raise Exception(\"That path doesn't exist!\")\n",
    "        if not path.endswith(\".jsonl\"):\n",
    "            raise Exception(\"AgiDataset class instantiation needs a path to a .jsonl file.\")\n",
    "            \n",
    "    def get_answer_for(self, question):\n",
    "        with open(self.path, \"r\", encoding=\"utf-8\") as f:\n",
    "            for line in f:\n",
    "                obj = json.loads(line)\n",
    "                if obj[\"user\"] == question:\n",
    "                    return obj[\"assistant\"]\n",
    "        return None\n",
    "    \n",
    "    def add_questions_to_vector_db(self, vector_db: VectorDB):\n",
    "        with open(self.path, \"r\", encoding=\"utf-8\") as f:\n",
    "            for line in f:\n",
    "                obj = json.loads(line)\n",
    "                vector_db.add_vector(obj[\"user\"])"
   ]
  },
  {
   "cell_type": "markdown",
   "id": "ee1bdae1-c76c-4613-857c-01d65e817e97",
   "metadata": {},
   "source": [
    "Sample code showing how to use the AgiDataset class."
   ]
  },
  {
   "cell_type": "code",
   "execution_count": 6,
   "id": "1f8830c9-d86c-4922-b9ae-053b92dad59f",
   "metadata": {},
   "outputs": [],
   "source": [
    "dataset = AgiDataset(\"data/data.jsonl\")"
   ]
  },
  {
   "cell_type": "code",
   "execution_count": 7,
   "id": "f8b46841-abe3-4bb6-a06c-23566eb258d4",
   "metadata": {},
   "outputs": [],
   "source": [
    "vector_db.clear()\n",
    "dataset.add_questions_to_vector_db(vector_db)"
   ]
  },
  {
   "cell_type": "markdown",
   "id": "f5a6f12c-d113-4bf7-a8f0-54c8db0b14b4",
   "metadata": {},
   "source": [
    "# Pipeline"
   ]
  },
  {
   "cell_type": "markdown",
   "id": "034c7a94-b8db-4143-a40a-0c761a8260a4",
   "metadata": {},
   "source": [
    "We now see how we shall go about responding to actual requests."
   ]
  },
  {
   "cell_type": "code",
   "execution_count": 8,
   "id": "eb2086e8-2eee-4cfc-8f41-6d6644f99b14",
   "metadata": {},
   "outputs": [
    {
     "name": "stdout",
     "output_type": "stream",
     "text": [
      "Most similar question in database: Where do I pay my exam fees?, with similarity of 0.7649897336959839.\n",
      "Answer for the request is: Login to your student portal (https://sp.srmist.edu.in/srmiststudentportal/students/loginManager/youLogin.jsp) and click “Fee Payment” and click “Fee Details”. There you can see how much exam fees or fees in general you have to pay.\n"
     ]
    }
   ],
   "source": [
    "# assume a request as follows:\n",
    "user_request = \"I want to pay my exam fees, how do I do it?\"\n",
    "\n",
    "# first we get the most similar question that already exists in the database\n",
    "most_similar_string, similarity = vector_db.get_most_similar(user_request)\n",
    "print(f\"Most similar question in database: {most_similar_string}, with similarity of {similarity}.\")\n",
    "\n",
    "# then we get the answer for the question from the dataset\n",
    "answer = dataset.get_answer_for(most_similar_string)\n",
    "print(f\"Answer for the request is: {answer}\")"
   ]
  },
  {
   "cell_type": "markdown",
   "id": "14b5f44f-3226-4ef9-808a-bd3f53b75787",
   "metadata": {},
   "source": [
    "So we define the following function. "
   ]
  },
  {
   "cell_type": "code",
   "execution_count": 9,
   "id": "8c9281b7-de6e-42e6-be4e-b6feadc88652",
   "metadata": {},
   "outputs": [],
   "source": [
    "def get_answer_for(request, vector_db, dataset):\n",
    "    most_similar_string, similarity = vector_db.get_most_similar(request)\n",
    "    if similarity < 0.5:\n",
    "        return \"I can't answer that.\", similarity\n",
    "    return dataset.get_answer_for(most_similar_string), similarity"
   ]
  },
  {
   "cell_type": "code",
   "execution_count": 10,
   "id": "f0da8a4c-d7e4-45b7-b24c-9bcd445325ab",
   "metadata": {},
   "outputs": [
    {
     "name": "stdout",
     "output_type": "stream",
     "text": [
      "Login to your student portal (https://sp.srmist.edu.in/srmiststudentportal/students/loginManager/youLogin.jsp) and click “Scribe Request” on the left. Choose the month and year of your exams. There you can see the dates of your examinations. 0.7891468\n"
     ]
    }
   ],
   "source": [
    "answer, similarity = get_answer_for(\"I want to see my exam timetable?\", vector_db, dataset)\n",
    "print(answer, similarity)"
   ]
  }
 ],
 "metadata": {
  "kernelspec": {
   "display_name": "Python 3 (ipykernel)",
   "language": "python",
   "name": "python3"
  },
  "language_info": {
   "codemirror_mode": {
    "name": "ipython",
    "version": 3
   },
   "file_extension": ".py",
   "mimetype": "text/x-python",
   "name": "python",
   "nbconvert_exporter": "python",
   "pygments_lexer": "ipython3",
   "version": "3.10.18"
  }
 },
 "nbformat": 4,
 "nbformat_minor": 5
}
